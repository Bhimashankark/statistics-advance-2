{
 "cells": [
  {
   "cell_type": "markdown",
   "id": "5cb61447-a12d-4cef-bc5d-d03e0e9ac040",
   "metadata": {},
   "source": [
    "ASSIGNMENT ON STATISTICS ADVANCE"
   ]
  },
  {
   "cell_type": "markdown",
   "id": "a848dc64-12d3-4574-9045-5061835adb2c",
   "metadata": {},
   "source": [
    "Q1: What are the Probability Mass Function (PMF) and Probability Density Function (PDF)? Explain with an example."
   ]
  },
  {
   "cell_type": "markdown",
   "id": "9109da1c-e419-4237-9267-104c1399ee3a",
   "metadata": {},
   "source": [
    "ANSWER : The Probability Mass Function (PMF) and Probability Density Function (PDF) are both mathematical functions used to describe the probability distribution of a random variable.\n",
    "\n",
    "A PMF is a function that maps each possible value of a discrete random variable to its probability of occurrence. The sum of the probabilities over all possible values of the random variable is equal to 1. For example, let's consider a fair six-sided die. The PMF of this die assigns a probability of 1/6 to each of the possible values: 1, 2, 3, 4, 5, and 6.\n",
    "\n",
    "On the other hand, a PDF is a function that describes the probability distribution of a continuous random variable. Unlike a PMF, a PDF does not give the probability of specific values of the random variable but gives the probability density at each point in the distribution. The area under the curve of a PDF over an interval represents the probability of the variable falling within that interval. For example, let's consider a normal distribution with mean 0 and standard deviation 1. The PDF of this distribution is given by the formula f(x) = (1/√(2π)) * e^(-x^2/2), where x is a continuous variable. The area under the curve between any two values of x represents the probability of the variable falling within that interval.\n",
    "\n",
    "In summary, a PMF is used to describe the probability distribution of a discrete random variable, while a PDF is used to describe the probability distribution of a continuous random variable.    "
   ]
  },
  {
   "cell_type": "code",
   "execution_count": null,
   "id": "ff304d3e-cbf3-4e6b-926b-306a0830064c",
   "metadata": {},
   "outputs": [],
   "source": []
  },
  {
   "cell_type": "markdown",
   "id": "fa5c7ea4-08e0-42b9-b440-6c4e6c6f376e",
   "metadata": {},
   "source": [
    "Q2: What is Cumulative Density Function (CDF)? Explain with an example. Why CDF is used?"
   ]
  },
  {
   "cell_type": "markdown",
   "id": "ab2f0c85-46c1-4670-ac4b-dbae05d5ff5a",
   "metadata": {},
   "source": [
    "ANSWER : The Cumulative Density Function (CDF) is a function that maps each possible value of a random variable to the probability that the random variable is less than or equal to that value. In other words, it gives the cumulative probability distribution of the random variable.\n",
    "\n",
    "For a discrete random variable, the CDF is the sum of the probabilities of all values less than or equal to the given value. For a continuous random variable, the CDF is the integral of the probability density function over the interval from negative infinity to the given value.\n",
    "\n",
    "The CDF is a useful tool in statistics because it can be used to calculate probabilities for ranges of values. For example, the probability of a value falling between two specific values can be calculated by taking the difference between the values of the CDF at those two points. Additionally, the CDF can be used to generate percentiles, which are values below which a given percentage of the data fall.\n",
    "\n",
    "In summary, the CDF is a function that gives the cumulative probability distribution of a random variable. It is useful in statistics because it allows for the calculation of probabilities for ranges of values and the generation of percentiles."
   ]
  },
  {
   "cell_type": "code",
   "execution_count": null,
   "id": "432e1e21-f495-48a0-9040-724c97ee51a5",
   "metadata": {},
   "outputs": [],
   "source": []
  },
  {
   "cell_type": "markdown",
   "id": "d55c99e7-f96d-476a-b95b-63719fcc1cfd",
   "metadata": {},
   "source": [
    "Q3: What are some examples of situations where the normal distribution might be used as a model?\n",
    "Explain how the parameters of the normal distribution relate to the shape of the distribution."
   ]
  },
  {
   "cell_type": "markdown",
   "id": "d8b385ca-19b5-4e90-aa46-af1780be868c",
   "metadata": {},
   "source": [
    "ANSWER : The normal distribution, also known as the Gaussian distribution, is a continuous probability distribution that is widely used as a model in many fields, including statistics, physics, engineering, and social sciences. Here are some examples of situations where the normal distribution might be used as a model:\n",
    "\n",
    "In finance, the normal distribution is often used to model stock prices, as returns on stocks are often assumed to be normally distributed.\n",
    "\n",
    "In quality control, the normal distribution is used to model the distribution of measurement errors, such as the distribution of weights of manufactured products.\n",
    "\n",
    "In psychology, the normal distribution is used to model scores on standardized tests, as they tend to follow a bell-shaped curve.\n",
    "\n",
    "The normal distribution is characterized by two parameters: the mean (μ) and the standard deviation (σ). The mean represents the center of the distribution, while the standard deviation represents the spread of the distribution.\n",
    "\n",
    "The shape of the normal distribution is symmetric and bell-shaped, with the peak of the curve at the mean. The standard deviation determines the width of the distribution, with larger values of σ resulting in wider distributions. As σ approaches zero, the normal distribution becomes more and more peaked, approaching a point at the mean.\n",
    "\n",
    "The normal distribution is also sometimes parameterized using the variance (σ^2) instead of the standard deviation. The variance determines the spread of the distribution in the same way as the standard deviation, but is squared in order to maintain the same units as the data being modeled.\n",
    "\n",
    "In summary, the normal distribution is a commonly used model in many fields, and is characterized by its mean and standard deviation (or variance). The parameters of the normal distribution determine the center and spread of the distribution, which in turn determine the shape of the distribution."
   ]
  },
  {
   "cell_type": "code",
   "execution_count": null,
   "id": "d6de3180-b3b4-4377-8ecf-d5ecaa86ae4c",
   "metadata": {},
   "outputs": [],
   "source": []
  },
  {
   "cell_type": "markdown",
   "id": "47a7f7d0-1cc2-4473-a7c2-53d435112460",
   "metadata": {},
   "source": [
    "Q4: Explain the importance of Normal Distribution. Give a few real-life examples of Normal Distribution."
   ]
  },
  {
   "cell_type": "markdown",
   "id": "6fd957a9-a21f-40f1-ba75-9d631338a154",
   "metadata": {},
   "source": [
    "ANSWER : The normal distribution is an important statistical concept that has a wide range of applications in various fields. Some of the key importance of the normal distribution are:\n",
    "\n",
    "Approximation of real-world phenomena: Many natural phenomena, such as human height, IQ scores, and weight, follow the normal distribution. Therefore, understanding and utilizing the normal distribution can help us approximate and predict the behavior of these phenomena in the real world.\n",
    "\n",
    "Statistical inference: The normal distribution is a crucial tool in statistical inference, which is the process of drawing conclusions about a population based on a sample. Many statistical tests and confidence intervals rely on the assumption of normality, which allows for the use of powerful statistical techniques.\n",
    "\n",
    "Central Limit Theorem: The normal distribution is a central concept in the Central Limit Theorem, which states that the distribution of the sample means from any population with a finite mean and variance will tend to follow a normal distribution as the sample size increases.\n",
    "\n",
    "Here are a few real-life examples of situations where the normal distribution is used as a model:\n",
    "\n",
    "IQ Scores: IQ scores are standardized scores that are designed to follow a normal distribution with a mean of 100 and a standard deviation of 15. This allows us to compare the intelligence levels of individuals and groups on a common scale.\n",
    "\n",
    "Stock Returns: The daily returns of stocks are often assumed to be normally distributed, which allows investors to use statistical techniques to estimate the probability of a particular return or to create portfolios with specific risk levels.\n",
    "\n",
    "Height: Human height tends to follow a normal distribution with a mean of around 5'7'' (170 cm) and a standard deviation of about 2.5 inches (6 cm). This allows researchers to study and compare height distributions across different populations and groups.\n",
    "\n",
    "Test Scores: Scores on standardized tests, such as the SAT and ACT, are designed to follow a normal distribution, which allows colleges and universities to compare the performance of applicants on a common scale."
   ]
  },
  {
   "cell_type": "code",
   "execution_count": null,
   "id": "c5a49e12-6c99-47f2-85bf-133caa3707b8",
   "metadata": {},
   "outputs": [],
   "source": []
  },
  {
   "cell_type": "markdown",
   "id": "eb4d6fb5-e8b2-4e44-b28c-9b30ca790889",
   "metadata": {},
   "source": [
    "Q5: What is Bernaulli Distribution? Give an Example. What is the difference between Bernoulli Distribution and Binomial Distribution?"
   ]
  },
  {
   "cell_type": "markdown",
   "id": "6c364faf-5744-4077-92b2-de19a6d465f0",
   "metadata": {},
   "source": [
    "ANSWER : The Bernoulli distribution is a discrete probability distribution that models a single experiment that has only two possible outcomes: success or failure. It is named after the Swiss mathematician Jakob Bernoulli. The probability of success is denoted by p and the probability of failure by q = 1 - p. The Bernoulli distribution is characterized by a single parameter p.\n",
    "\n",
    "An example of the Bernoulli distribution would be the flip of a coin, where a \"heads\" could be considered a success and a \"tails\" could be considered a failure. Another example could be a person answering \"yes\" or \"no\" to a simple question.\n",
    "\n",
    "The probability mass function of the Bernoulli distribution is:\n",
    "\n",
    "P(X = 1) = p\n",
    "P(X = 0) = 1 - p\n",
    "\n",
    "Where X is a random variable representing the outcome of the experiment.\n",
    "\n",
    "The main difference between the Bernoulli distribution and the binomial distribution is that the Bernoulli distribution models a single experiment with two possible outcomes, whereas the binomial distribution models the number of successes in a fixed number of independent trials, each of which has a Bernoulli distribution.\n",
    "\n",
    "For example, suppose we flip a coin 10 times and count the number of times we get \"heads\". The binomial distribution would model the number of \"heads\" we get in the 10 trials, while the Bernoulli distribution would model the outcome of a single flip.\n",
    "In summary, the Bernoulli distribution models a single experiment with two possible outcomes, while the binomial distribution models the number of successes in a fixed number of independent trials, each with a Bernoulli distribution.\n"
   ]
  },
  {
   "cell_type": "code",
   "execution_count": null,
   "id": "3ade70e7-20d8-4cf5-8924-ddd93b136021",
   "metadata": {},
   "outputs": [],
   "source": []
  },
  {
   "cell_type": "markdown",
   "id": "055f192c-d803-4130-9031-46d70141dc6b",
   "metadata": {},
   "source": [
    "Q6. Consider a dataset with a mean of 50 and a standard deviation of 10. If we assume that the dataset is normally distributed, what is the probability that a randomly selected observation will be greater than 60? Use the appropriate formula and show your calculations."
   ]
  },
  {
   "cell_type": "markdown",
   "id": "77fded6f-59e2-424c-8b7c-01baabbf6b6c",
   "metadata": {},
   "source": [
    "ANSWER : \n",
    "mean = 50\n",
    "standard deviation = 10\n",
    "\n",
    "we have to find Zscore = (Xi-mean)/(std deviation)\n",
    "                       = (60-50)/10\n",
    "                       =  1\n",
    "from the zscore ,in the Z table value we get left side portion of the graph that is lesser than 60 and Zscore = 0.84134 \n",
    "so as to get the probability that a randomly selected observation will be greater than 60 = (1-0.84134) = 0.15866 \n",
    "\n",
    "Therefore, the probability that a randomly selected observation from a normally distributed dataset with a mean of 50 and a standard deviation of 10 will be greater than 60 is approximately 0.1587, or 15.87%."
   ]
  },
  {
   "cell_type": "code",
   "execution_count": null,
   "id": "9f2d39e0-1244-43ae-8d29-47bf00db3a87",
   "metadata": {},
   "outputs": [],
   "source": []
  },
  {
   "cell_type": "markdown",
   "id": "28c1b0df-62f5-4759-a46c-1f8a9ce2b27f",
   "metadata": {},
   "source": [
    "Q7: Explain uniform Distribution with an example."
   ]
  },
  {
   "cell_type": "markdown",
   "id": "81b65ffb-e9cb-4dc9-b666-6413d19d53e3",
   "metadata": {},
   "source": [
    "ANSWER : The uniform distribution is a probability distribution that models a situation where all outcomes within a certain range are equally likely. There are two types of uniform distributions: discrete and continuous.\n",
    "\n",
    "Discrete Uniform Distribution:\n",
    "The discrete uniform distribution models a situation where all outcomes within a certain range are equally likely and have a finite number of possible values. An example of the discrete uniform distribution is the roll of a fair die. In this case, the range of possible outcomes is 1 to 6, and each outcome is equally likely. Another example could be the number of children in a family, where any number between 1 and 10 (for example) is equally likely.\n",
    "\n",
    "The probability mass function of the discrete uniform distribution is:\n",
    "\n",
    "f(x) = 1 / (b - a + 1), for a ≤ x ≤ b\n",
    "f(x) = 0, otherwise\n",
    "\n",
    "Where x is a random variable representing the outcome within the range, and f(x) is the probability mass function that gives the probability of x occurring.\n",
    "\n",
    "Continuous Uniform Distribution:\n",
    "The continuous uniform distribution models a situation where all outcomes within a certain range are equally likely and have an infinite number of possible values. An example of the continuous uniform distribution is the height of a person between 5 feet and 6 feet, where any height within this range is equally likely. Another example could be the arrival time of a bus at a bus stop between 10:00 AM and 11:00 AM, where any time within this range is equally likely.\n",
    "\n",
    "The probability density function of the continuous uniform distribution is:\n",
    "\n",
    "f(x) = 1 / (b - a), for a ≤ x ≤ b\n",
    "f(x) = 0, otherwise\n",
    "\n",
    "Where x is a random variable representing the outcome within the range, and f(x) is the probability density function that gives the probability of x occurring.\n",
    "\n",
    "In summary, the discrete uniform distribution models a situation where all outcomes within a certain range are equally likely and have a finite number of possible values, while the continuous uniform distribution models a situation where all outcomes within a certain range are equally likely and have an infinite number of possible values.  "
   ]
  },
  {
   "cell_type": "code",
   "execution_count": null,
   "id": "20701746-b6cc-4ab8-b503-a84307f2bbd2",
   "metadata": {},
   "outputs": [],
   "source": []
  },
  {
   "cell_type": "markdown",
   "id": "cbfb5528-f7be-43d0-acd6-ebdb8a35f64c",
   "metadata": {},
   "source": [
    "Q8: What is the z score? State the importance of the z score."
   ]
  },
  {
   "cell_type": "markdown",
   "id": "07a226db-5fbb-4e76-8e21-1c9257b14446",
   "metadata": {},
   "source": [
    "ANSWER : The z-score, also known as the standard score, is a measure of how many standard deviations an observation or data point is away from the mean of the distribution. It is calculated by subtracting the mean from the observation and then dividing the result by the standard deviation. The formula for calculating the z-score is:\n",
    "\n",
    "z = (x - mean) / standard deviation\n",
    "\n",
    "where z is the z-score, x is the observed value, μ is the mean of the distribution, and σ is the standard deviation of the distribution.\n",
    "\n",
    "The z-score is important because it allows us to standardize different observations or data points that are measured on different scales, so that we can compare them and make meaningful inferences. By calculating the z-score, we can determine how extreme or unusual a particular observation is relative to the rest of the distribution.\n",
    "\n",
    "The z-score is also used in hypothesis testing and statistical inference. For example, we can use the z-score to determine the probability of observing a particular value or a more extreme value, given a null hypothesis about the population mean and standard deviation. If the probability is very small, we may reject the null hypothesis and conclude that the observed value is unlikely to have occurred by chance alone.\n",
    "\n",
    "In summary, the z-score is a standardized measure of how far an observation or data point is from the mean of the distribution in terms of standard deviations. It is an important tool for comparing and analyzing data, as well as for hypothesis testing and statistical inference."
   ]
  },
  {
   "cell_type": "code",
   "execution_count": null,
   "id": "fe0fae15-3133-4db3-963c-40af3ff85757",
   "metadata": {},
   "outputs": [],
   "source": []
  },
  {
   "cell_type": "markdown",
   "id": "48bc0a5e-087f-4c84-8999-115246cd23b7",
   "metadata": {},
   "source": [
    "Q9: What is Central Limit Theorem? State the significance of the Central Limit Theorem."
   ]
  },
  {
   "cell_type": "markdown",
   "id": "b1657271-093c-4d5d-b1bb-0d083b16880d",
   "metadata": {},
   "source": [
    "ANSWER : The Central Limit Theorem (CLT) is a fundamental concept in statistics that states that, regardless of the underlying distribution of a population, the sampling distribution of the mean of a sufficiently large sample size will be approximately normal, with a mean equal to the population mean and a standard deviation equal to the population standard deviation divided by the square root of the sample size.\n",
    "\n",
    "In other words, the CLT tells us that the means of many samples drawn from any distribution, no matter how skewed or non-normal, will themselves be approximately normally distributed. The larger the sample size, the closer the sampling distribution of the mean will be to a normal distribution.\n",
    "\n",
    "The significance of the CLT is that it allows us to make inferences about population means, even when we do not know the underlying distribution of the population. For example, we can use the CLT to construct confidence intervals and perform hypothesis tests for population means based on sample means. This is because the normal distribution is well-understood and has many convenient properties that make statistical inference easier.\n",
    "\n",
    "Furthermore, the CLT is widely used in statistical modeling and simulation. It allows us to generate random samples that are normally distributed, which can be used to model a wide range of phenomena and simulate various scenarios. This is especially useful in areas such as finance, engineering, and physics, where simulation is a crucial tool for making predictions and testing hypotheses.\n",
    "\n",
    "In summary, the Central Limit Theorem is a fundamental concept in statistics that tells us that the sampling distribution of the mean of a sufficiently large sample size will be approximately normal, regardless of the underlying distribution of the population. The significance of the CLT is that it allows us to make inferences about population means and construct confidence intervals and perform hypothesis tests, as well as to model and simulate a wide range of phenomena."
   ]
  },
  {
   "cell_type": "code",
   "execution_count": null,
   "id": "c1273aeb-c9e7-48b5-b1c1-5dd05849c1dd",
   "metadata": {},
   "outputs": [],
   "source": []
  },
  {
   "cell_type": "markdown",
   "id": "48f1d872-10c2-4d78-b3c8-889232b371cf",
   "metadata": {},
   "source": [
    "Q10: State the assumptions of the Central Limit Theorem."
   ]
  },
  {
   "cell_type": "markdown",
   "id": "7658b5dc-3515-45e8-bc5f-b35fb73479e3",
   "metadata": {},
   "source": [
    "ANSWER : The Central Limit Theorem (CLT) has certain assumptions that need to be satisfied in order for it to hold true. The assumptions are:\n",
    "\n",
    "Random sampling: The samples should be drawn randomly from the population, without any bias or preference.\n",
    "\n",
    "Independence: The samples should be independent of each other. This means that the outcome of one sample should not be affected by the outcome of another sample.\n",
    "\n",
    "Finite population or infinite population with replacement: The population from which the samples are drawn should be finite, or if it is infinite, it should be assumed that samples are drawn with replacement.\n",
    "\n",
    "The sample size is sufficiently large: The sample size should be sufficiently large. Although there is no hard and fast rule for what constitutes a \"sufficiently large\" sample size, a rule of thumb is that the sample size should be greater than or equal to 30.\n",
    "\n",
    "The population should have a finite mean and a finite standard deviation: The population should have a well-defined mean and standard deviation."
   ]
  }
 ],
 "metadata": {
  "kernelspec": {
   "display_name": "Python 3 (ipykernel)",
   "language": "python",
   "name": "python3"
  },
  "language_info": {
   "codemirror_mode": {
    "name": "ipython",
    "version": 3
   },
   "file_extension": ".py",
   "mimetype": "text/x-python",
   "name": "python",
   "nbconvert_exporter": "python",
   "pygments_lexer": "ipython3",
   "version": "3.10.8"
  }
 },
 "nbformat": 4,
 "nbformat_minor": 5
}
